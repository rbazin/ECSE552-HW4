{
  "cells": [
    {
      "cell_type": "markdown",
      "metadata": {
        "id": "PbcCJmJyxaLn"
      },
      "source": [
        "# Model 3 : transformers applied to time series forecasting"
      ]
    },
    {
      "cell_type": "markdown",
      "metadata": {
        "id": "0KrLhFUAxaLp"
      },
      "source": [
        "## Imports and Data pre-processing"
      ]
    },
    {
      "cell_type": "code",
      "execution_count": 128,
      "metadata": {
        "id": "8Mx-w0BPxaLp"
      },
      "outputs": [],
      "source": [
        "import pandas as pd\n",
        "import matplotlib.pyplot as plt\n",
        "import os\n",
        "import numpy as np\n",
        "import time\n",
        "from tqdm import tqdm\n",
        "\n",
        "import torch\n",
        "import torch.nn as nn\n",
        "from torch.utils.data import Dataset, DataLoader, random_split\n",
        "import torch.optim.lr_scheduler as lr_scheduler\n",
        "\n",
        "from sklearn.preprocessing import MinMaxScaler\n",
        "\n",
        "torch.manual_seed(0)\n",
        "np.random.seed(0)"
      ]
    },
    {
      "cell_type": "code",
      "source": [
        "from google.colab import drive\n",
        "WEATHER_DATA_PATH = \"/content/gdrive/MyDrive/Machine Learning/Datasets/weather_forecasting\"\n",
        "drive.mount(\"/content/gdrive\")"
      ],
      "metadata": {
        "colab": {
          "base_uri": "https://localhost:8080/"
        },
        "id": "dVn4UL9yxiDI",
        "outputId": "02628678-2cb3-40e6-f2a4-2a1bd3d7719a"
      },
      "execution_count": 129,
      "outputs": [
        {
          "output_type": "stream",
          "name": "stdout",
          "text": [
            "Drive already mounted at /content/gdrive; to attempt to forcibly remount, call drive.mount(\"/content/gdrive\", force_remount=True).\n"
          ]
        }
      ]
    },
    {
      "cell_type": "code",
      "execution_count": 130,
      "metadata": {
        "id": "DFdpqt-YxaLr"
      },
      "outputs": [],
      "source": [
        "path = '/home/rbazin/ECSE552/ECSE552-HW4/'"
      ]
    },
    {
      "cell_type": "code",
      "execution_count": 132,
      "metadata": {
        "id": "y-PwkSRXxaLr"
      },
      "outputs": [],
      "source": [
        "def custom_date_parser(date_string):\n",
        "    return pd.datetime.strptime(date_string, '%d.%m.%Y %H:%M:%S')"
      ]
    },
    {
      "cell_type": "code",
      "execution_count": 133,
      "metadata": {
        "colab": {
          "base_uri": "https://localhost:8080/",
          "height": 410
        },
        "id": "0ZveNUXmxaLr",
        "outputId": "bfa8dfd4-ab83-43d2-c8b2-8ac1f6bc45b1"
      },
      "outputs": [
        {
          "output_type": "stream",
          "name": "stderr",
          "text": [
            "<ipython-input-132-806ade3554b6>:2: FutureWarning: The pandas.datetime class is deprecated and will be removed from pandas in a future version. Import from datetime module instead.\n",
            "  return pd.datetime.strptime(date_string, '%d.%m.%Y %H:%M:%S')\n"
          ]
        },
        {
          "output_type": "execute_result",
          "data": {
            "text/plain": [
              "            Date Time  p (mbar)  T (degC)  Tpot (K)  Tdew (degC)  rh (%)  \\\n",
              "0 2009-01-01 01:00:00    996.50     -8.05    265.38        -8.78    94.4   \n",
              "1 2009-01-01 02:00:00    996.62     -8.88    264.54        -9.77    93.2   \n",
              "2 2009-01-01 03:00:00    996.84     -8.81    264.59        -9.66    93.5   \n",
              "3 2009-01-01 04:00:00    996.99     -9.05    264.34       -10.02    92.6   \n",
              "4 2009-01-01 05:00:00    997.46     -9.63    263.72       -10.65    92.2   \n",
              "\n",
              "   VPmax (mbar)  VPact (mbar)  VPdef (mbar)  sh (g/kg)  H2OC (mmol/mol)  \\\n",
              "0          3.33          3.14          0.19       1.96             3.15   \n",
              "1          3.12          2.90          0.21       1.81             2.91   \n",
              "2          3.13          2.93          0.20       1.83             2.94   \n",
              "3          3.07          2.85          0.23       1.78             2.85   \n",
              "4          2.94          2.71          0.23       1.69             2.71   \n",
              "\n",
              "   rho (g/m**3)  wv (m/s)  max. wv (m/s)  wd (deg)  \n",
              "0       1307.86      0.21           0.63     192.7  \n",
              "1       1312.25      0.25           0.63     190.3  \n",
              "2       1312.18      0.18           0.63     167.2  \n",
              "3       1313.61      0.10           0.38     240.0  \n",
              "4       1317.19      0.40           0.88     157.0  "
            ],
            "text/html": [
              "\n",
              "  <div id=\"df-16289a7a-a12e-4a7d-9799-346d0861cdcc\">\n",
              "    <div class=\"colab-df-container\">\n",
              "      <div>\n",
              "<style scoped>\n",
              "    .dataframe tbody tr th:only-of-type {\n",
              "        vertical-align: middle;\n",
              "    }\n",
              "\n",
              "    .dataframe tbody tr th {\n",
              "        vertical-align: top;\n",
              "    }\n",
              "\n",
              "    .dataframe thead th {\n",
              "        text-align: right;\n",
              "    }\n",
              "</style>\n",
              "<table border=\"1\" class=\"dataframe\">\n",
              "  <thead>\n",
              "    <tr style=\"text-align: right;\">\n",
              "      <th></th>\n",
              "      <th>Date Time</th>\n",
              "      <th>p (mbar)</th>\n",
              "      <th>T (degC)</th>\n",
              "      <th>Tpot (K)</th>\n",
              "      <th>Tdew (degC)</th>\n",
              "      <th>rh (%)</th>\n",
              "      <th>VPmax (mbar)</th>\n",
              "      <th>VPact (mbar)</th>\n",
              "      <th>VPdef (mbar)</th>\n",
              "      <th>sh (g/kg)</th>\n",
              "      <th>H2OC (mmol/mol)</th>\n",
              "      <th>rho (g/m**3)</th>\n",
              "      <th>wv (m/s)</th>\n",
              "      <th>max. wv (m/s)</th>\n",
              "      <th>wd (deg)</th>\n",
              "    </tr>\n",
              "  </thead>\n",
              "  <tbody>\n",
              "    <tr>\n",
              "      <th>0</th>\n",
              "      <td>2009-01-01 01:00:00</td>\n",
              "      <td>996.50</td>\n",
              "      <td>-8.05</td>\n",
              "      <td>265.38</td>\n",
              "      <td>-8.78</td>\n",
              "      <td>94.4</td>\n",
              "      <td>3.33</td>\n",
              "      <td>3.14</td>\n",
              "      <td>0.19</td>\n",
              "      <td>1.96</td>\n",
              "      <td>3.15</td>\n",
              "      <td>1307.86</td>\n",
              "      <td>0.21</td>\n",
              "      <td>0.63</td>\n",
              "      <td>192.7</td>\n",
              "    </tr>\n",
              "    <tr>\n",
              "      <th>1</th>\n",
              "      <td>2009-01-01 02:00:00</td>\n",
              "      <td>996.62</td>\n",
              "      <td>-8.88</td>\n",
              "      <td>264.54</td>\n",
              "      <td>-9.77</td>\n",
              "      <td>93.2</td>\n",
              "      <td>3.12</td>\n",
              "      <td>2.90</td>\n",
              "      <td>0.21</td>\n",
              "      <td>1.81</td>\n",
              "      <td>2.91</td>\n",
              "      <td>1312.25</td>\n",
              "      <td>0.25</td>\n",
              "      <td>0.63</td>\n",
              "      <td>190.3</td>\n",
              "    </tr>\n",
              "    <tr>\n",
              "      <th>2</th>\n",
              "      <td>2009-01-01 03:00:00</td>\n",
              "      <td>996.84</td>\n",
              "      <td>-8.81</td>\n",
              "      <td>264.59</td>\n",
              "      <td>-9.66</td>\n",
              "      <td>93.5</td>\n",
              "      <td>3.13</td>\n",
              "      <td>2.93</td>\n",
              "      <td>0.20</td>\n",
              "      <td>1.83</td>\n",
              "      <td>2.94</td>\n",
              "      <td>1312.18</td>\n",
              "      <td>0.18</td>\n",
              "      <td>0.63</td>\n",
              "      <td>167.2</td>\n",
              "    </tr>\n",
              "    <tr>\n",
              "      <th>3</th>\n",
              "      <td>2009-01-01 04:00:00</td>\n",
              "      <td>996.99</td>\n",
              "      <td>-9.05</td>\n",
              "      <td>264.34</td>\n",
              "      <td>-10.02</td>\n",
              "      <td>92.6</td>\n",
              "      <td>3.07</td>\n",
              "      <td>2.85</td>\n",
              "      <td>0.23</td>\n",
              "      <td>1.78</td>\n",
              "      <td>2.85</td>\n",
              "      <td>1313.61</td>\n",
              "      <td>0.10</td>\n",
              "      <td>0.38</td>\n",
              "      <td>240.0</td>\n",
              "    </tr>\n",
              "    <tr>\n",
              "      <th>4</th>\n",
              "      <td>2009-01-01 05:00:00</td>\n",
              "      <td>997.46</td>\n",
              "      <td>-9.63</td>\n",
              "      <td>263.72</td>\n",
              "      <td>-10.65</td>\n",
              "      <td>92.2</td>\n",
              "      <td>2.94</td>\n",
              "      <td>2.71</td>\n",
              "      <td>0.23</td>\n",
              "      <td>1.69</td>\n",
              "      <td>2.71</td>\n",
              "      <td>1317.19</td>\n",
              "      <td>0.40</td>\n",
              "      <td>0.88</td>\n",
              "      <td>157.0</td>\n",
              "    </tr>\n",
              "  </tbody>\n",
              "</table>\n",
              "</div>\n",
              "      <button class=\"colab-df-convert\" onclick=\"convertToInteractive('df-16289a7a-a12e-4a7d-9799-346d0861cdcc')\"\n",
              "              title=\"Convert this dataframe to an interactive table.\"\n",
              "              style=\"display:none;\">\n",
              "        \n",
              "  <svg xmlns=\"http://www.w3.org/2000/svg\" height=\"24px\"viewBox=\"0 0 24 24\"\n",
              "       width=\"24px\">\n",
              "    <path d=\"M0 0h24v24H0V0z\" fill=\"none\"/>\n",
              "    <path d=\"M18.56 5.44l.94 2.06.94-2.06 2.06-.94-2.06-.94-.94-2.06-.94 2.06-2.06.94zm-11 1L8.5 8.5l.94-2.06 2.06-.94-2.06-.94L8.5 2.5l-.94 2.06-2.06.94zm10 10l.94 2.06.94-2.06 2.06-.94-2.06-.94-.94-2.06-.94 2.06-2.06.94z\"/><path d=\"M17.41 7.96l-1.37-1.37c-.4-.4-.92-.59-1.43-.59-.52 0-1.04.2-1.43.59L10.3 9.45l-7.72 7.72c-.78.78-.78 2.05 0 2.83L4 21.41c.39.39.9.59 1.41.59.51 0 1.02-.2 1.41-.59l7.78-7.78 2.81-2.81c.8-.78.8-2.07 0-2.86zM5.41 20L4 18.59l7.72-7.72 1.47 1.35L5.41 20z\"/>\n",
              "  </svg>\n",
              "      </button>\n",
              "      \n",
              "  <style>\n",
              "    .colab-df-container {\n",
              "      display:flex;\n",
              "      flex-wrap:wrap;\n",
              "      gap: 12px;\n",
              "    }\n",
              "\n",
              "    .colab-df-convert {\n",
              "      background-color: #E8F0FE;\n",
              "      border: none;\n",
              "      border-radius: 50%;\n",
              "      cursor: pointer;\n",
              "      display: none;\n",
              "      fill: #1967D2;\n",
              "      height: 32px;\n",
              "      padding: 0 0 0 0;\n",
              "      width: 32px;\n",
              "    }\n",
              "\n",
              "    .colab-df-convert:hover {\n",
              "      background-color: #E2EBFA;\n",
              "      box-shadow: 0px 1px 2px rgba(60, 64, 67, 0.3), 0px 1px 3px 1px rgba(60, 64, 67, 0.15);\n",
              "      fill: #174EA6;\n",
              "    }\n",
              "\n",
              "    [theme=dark] .colab-df-convert {\n",
              "      background-color: #3B4455;\n",
              "      fill: #D2E3FC;\n",
              "    }\n",
              "\n",
              "    [theme=dark] .colab-df-convert:hover {\n",
              "      background-color: #434B5C;\n",
              "      box-shadow: 0px 1px 3px 1px rgba(0, 0, 0, 0.15);\n",
              "      filter: drop-shadow(0px 1px 2px rgba(0, 0, 0, 0.3));\n",
              "      fill: #FFFFFF;\n",
              "    }\n",
              "  </style>\n",
              "\n",
              "      <script>\n",
              "        const buttonEl =\n",
              "          document.querySelector('#df-16289a7a-a12e-4a7d-9799-346d0861cdcc button.colab-df-convert');\n",
              "        buttonEl.style.display =\n",
              "          google.colab.kernel.accessAllowed ? 'block' : 'none';\n",
              "\n",
              "        async function convertToInteractive(key) {\n",
              "          const element = document.querySelector('#df-16289a7a-a12e-4a7d-9799-346d0861cdcc');\n",
              "          const dataTable =\n",
              "            await google.colab.kernel.invokeFunction('convertToInteractive',\n",
              "                                                     [key], {});\n",
              "          if (!dataTable) return;\n",
              "\n",
              "          const docLinkHtml = 'Like what you see? Visit the ' +\n",
              "            '<a target=\"_blank\" href=https://colab.research.google.com/notebooks/data_table.ipynb>data table notebook</a>'\n",
              "            + ' to learn more about interactive tables.';\n",
              "          element.innerHTML = '';\n",
              "          dataTable['output_type'] = 'display_data';\n",
              "          await google.colab.output.renderOutput(dataTable, element);\n",
              "          const docLink = document.createElement('div');\n",
              "          docLink.innerHTML = docLinkHtml;\n",
              "          element.appendChild(docLink);\n",
              "        }\n",
              "      </script>\n",
              "    </div>\n",
              "  </div>\n",
              "  "
            ]
          },
          "metadata": {},
          "execution_count": 133
        }
      ],
      "source": [
        "data = pd.read_csv(os.path.join(WEATHER_DATA_PATH, \"weather_train.csv\"), parse_dates = ['Date Time'], date_parser=custom_date_parser)\n",
        "data.head()"
      ]
    },
    {
      "cell_type": "code",
      "execution_count": 134,
      "metadata": {
        "id": "XYkQtID9xaLs"
      },
      "outputs": [],
      "source": [
        "data.sort_values(by='Date Time', ascending=True, inplace=True)"
      ]
    },
    {
      "cell_type": "code",
      "execution_count": 135,
      "metadata": {
        "id": "LZlaSLNbxaLt"
      },
      "outputs": [],
      "source": [
        "data = data.rename(columns={'p (mbar)': 'p', 'T (degC)': 'T', 'rh (%)': 'rh', 'wv (m/s)': 'wv', 'Date Time': 'date'})"
      ]
    },
    {
      "cell_type": "code",
      "execution_count": 136,
      "metadata": {
        "id": "sNQ5rGdvxaLt"
      },
      "outputs": [],
      "source": [
        "data['date'] = data['date'].apply(lambda x: x.replace(minute=0))"
      ]
    },
    {
      "cell_type": "code",
      "source": [
        "data.drop(\"date\", inplace=True, axis=1)"
      ],
      "metadata": {
        "id": "o2-mKYcCJSGx"
      },
      "execution_count": 137,
      "outputs": []
    },
    {
      "cell_type": "code",
      "execution_count": 138,
      "metadata": {
        "colab": {
          "base_uri": "https://localhost:8080/"
        },
        "id": "GqkSp7dJxaLu",
        "outputId": "48dc7966-5941-4c85-bc1f-969e35619bb5"
      },
      "outputs": [
        {
          "output_type": "stream",
          "name": "stdout",
          "text": [
            "<class 'pandas.core.frame.DataFrame'>\n",
            "Int64Index: 56072 entries, 0 to 56071\n",
            "Data columns (total 14 columns):\n",
            " #   Column           Non-Null Count  Dtype  \n",
            "---  ------           --------------  -----  \n",
            " 0   p                56072 non-null  float64\n",
            " 1   T                56072 non-null  float64\n",
            " 2   Tpot (K)         56072 non-null  float64\n",
            " 3   Tdew (degC)      56072 non-null  float64\n",
            " 4   rh               56072 non-null  float64\n",
            " 5   VPmax (mbar)     56072 non-null  float64\n",
            " 6   VPact (mbar)     56072 non-null  float64\n",
            " 7   VPdef (mbar)     56072 non-null  float64\n",
            " 8   sh (g/kg)        56072 non-null  float64\n",
            " 9   H2OC (mmol/mol)  56072 non-null  float64\n",
            " 10  rho (g/m**3)     56072 non-null  float64\n",
            " 11  wv               56072 non-null  float64\n",
            " 12  max. wv (m/s)    56072 non-null  float64\n",
            " 13  wd (deg)         56072 non-null  float64\n",
            "dtypes: float64(14)\n",
            "memory usage: 6.4 MB\n"
          ]
        }
      ],
      "source": [
        "data.info()"
      ]
    },
    {
      "cell_type": "code",
      "execution_count": 139,
      "metadata": {
        "id": "hoBSWWFYxaLu"
      },
      "outputs": [],
      "source": [
        "data_df = data.copy()"
      ]
    },
    {
      "cell_type": "code",
      "source": [
        "# Initialize MinMaxScaler\n",
        "scaler = MinMaxScaler(feature_range=(-1, 1))\n",
        "\n",
        "# Scale the DataFrame using MinMaxScaler\n",
        "data_df[data_df.columns] = scaler.fit_transform(data_df)\n",
        "data_df.head()"
      ],
      "metadata": {
        "colab": {
          "base_uri": "https://localhost:8080/",
          "height": 268
        },
        "id": "VIYzZng1LCeK",
        "outputId": "d38b5ce8-1faf-488b-aa02-577f460e0054"
      },
      "execution_count": 140,
      "outputs": [
        {
          "output_type": "execute_result",
          "data": {
            "text/plain": [
              "          p         T  Tpot (K)  Tdew (degC)        rh  VPmax (mbar)  \\\n",
              "0  0.652876 -0.496319 -0.506454    -0.330547  0.869949     -0.917727   \n",
              "1  0.655269 -0.524739 -0.534986    -0.371918  0.842081     -0.925048   \n",
              "2  0.659655 -0.522342 -0.533288    -0.367321  0.849048     -0.924699   \n",
              "3  0.662646 -0.530560 -0.541780    -0.382365  0.828147     -0.926791   \n",
              "4  0.672017 -0.550419 -0.562840    -0.408692  0.818857     -0.931323   \n",
              "\n",
              "   VPact (mbar)  VPdef (mbar)  sh (g/kg)  H2OC (mmol/mol)  rho (g/m**3)  \\\n",
              "0     -0.830175     -0.990905  -0.834852        -0.832438      0.487084   \n",
              "1     -0.847668     -0.989947  -0.851936        -0.849624      0.513365   \n",
              "2     -0.845481     -0.990426  -0.849658        -0.847476      0.512946   \n",
              "3     -0.851312     -0.988990  -0.855353        -0.853921      0.521506   \n",
              "4     -0.861516     -0.988990  -0.865604        -0.863946      0.542938   \n",
              "\n",
              "         wv  max. wv (m/s)  wd (deg)  \n",
              "0 -0.970021      -0.946383  0.070556  \n",
              "1 -0.964311      -0.946383  0.057222  \n",
              "2 -0.974304      -0.946383 -0.071111  \n",
              "3 -0.985724      -0.967660  0.333333  \n",
              "4 -0.942898      -0.925106 -0.127778  "
            ],
            "text/html": [
              "\n",
              "  <div id=\"df-eda07ee0-363f-44fc-8fbf-32a7ebd067de\">\n",
              "    <div class=\"colab-df-container\">\n",
              "      <div>\n",
              "<style scoped>\n",
              "    .dataframe tbody tr th:only-of-type {\n",
              "        vertical-align: middle;\n",
              "    }\n",
              "\n",
              "    .dataframe tbody tr th {\n",
              "        vertical-align: top;\n",
              "    }\n",
              "\n",
              "    .dataframe thead th {\n",
              "        text-align: right;\n",
              "    }\n",
              "</style>\n",
              "<table border=\"1\" class=\"dataframe\">\n",
              "  <thead>\n",
              "    <tr style=\"text-align: right;\">\n",
              "      <th></th>\n",
              "      <th>p</th>\n",
              "      <th>T</th>\n",
              "      <th>Tpot (K)</th>\n",
              "      <th>Tdew (degC)</th>\n",
              "      <th>rh</th>\n",
              "      <th>VPmax (mbar)</th>\n",
              "      <th>VPact (mbar)</th>\n",
              "      <th>VPdef (mbar)</th>\n",
              "      <th>sh (g/kg)</th>\n",
              "      <th>H2OC (mmol/mol)</th>\n",
              "      <th>rho (g/m**3)</th>\n",
              "      <th>wv</th>\n",
              "      <th>max. wv (m/s)</th>\n",
              "      <th>wd (deg)</th>\n",
              "    </tr>\n",
              "  </thead>\n",
              "  <tbody>\n",
              "    <tr>\n",
              "      <th>0</th>\n",
              "      <td>0.652876</td>\n",
              "      <td>-0.496319</td>\n",
              "      <td>-0.506454</td>\n",
              "      <td>-0.330547</td>\n",
              "      <td>0.869949</td>\n",
              "      <td>-0.917727</td>\n",
              "      <td>-0.830175</td>\n",
              "      <td>-0.990905</td>\n",
              "      <td>-0.834852</td>\n",
              "      <td>-0.832438</td>\n",
              "      <td>0.487084</td>\n",
              "      <td>-0.970021</td>\n",
              "      <td>-0.946383</td>\n",
              "      <td>0.070556</td>\n",
              "    </tr>\n",
              "    <tr>\n",
              "      <th>1</th>\n",
              "      <td>0.655269</td>\n",
              "      <td>-0.524739</td>\n",
              "      <td>-0.534986</td>\n",
              "      <td>-0.371918</td>\n",
              "      <td>0.842081</td>\n",
              "      <td>-0.925048</td>\n",
              "      <td>-0.847668</td>\n",
              "      <td>-0.989947</td>\n",
              "      <td>-0.851936</td>\n",
              "      <td>-0.849624</td>\n",
              "      <td>0.513365</td>\n",
              "      <td>-0.964311</td>\n",
              "      <td>-0.946383</td>\n",
              "      <td>0.057222</td>\n",
              "    </tr>\n",
              "    <tr>\n",
              "      <th>2</th>\n",
              "      <td>0.659655</td>\n",
              "      <td>-0.522342</td>\n",
              "      <td>-0.533288</td>\n",
              "      <td>-0.367321</td>\n",
              "      <td>0.849048</td>\n",
              "      <td>-0.924699</td>\n",
              "      <td>-0.845481</td>\n",
              "      <td>-0.990426</td>\n",
              "      <td>-0.849658</td>\n",
              "      <td>-0.847476</td>\n",
              "      <td>0.512946</td>\n",
              "      <td>-0.974304</td>\n",
              "      <td>-0.946383</td>\n",
              "      <td>-0.071111</td>\n",
              "    </tr>\n",
              "    <tr>\n",
              "      <th>3</th>\n",
              "      <td>0.662646</td>\n",
              "      <td>-0.530560</td>\n",
              "      <td>-0.541780</td>\n",
              "      <td>-0.382365</td>\n",
              "      <td>0.828147</td>\n",
              "      <td>-0.926791</td>\n",
              "      <td>-0.851312</td>\n",
              "      <td>-0.988990</td>\n",
              "      <td>-0.855353</td>\n",
              "      <td>-0.853921</td>\n",
              "      <td>0.521506</td>\n",
              "      <td>-0.985724</td>\n",
              "      <td>-0.967660</td>\n",
              "      <td>0.333333</td>\n",
              "    </tr>\n",
              "    <tr>\n",
              "      <th>4</th>\n",
              "      <td>0.672017</td>\n",
              "      <td>-0.550419</td>\n",
              "      <td>-0.562840</td>\n",
              "      <td>-0.408692</td>\n",
              "      <td>0.818857</td>\n",
              "      <td>-0.931323</td>\n",
              "      <td>-0.861516</td>\n",
              "      <td>-0.988990</td>\n",
              "      <td>-0.865604</td>\n",
              "      <td>-0.863946</td>\n",
              "      <td>0.542938</td>\n",
              "      <td>-0.942898</td>\n",
              "      <td>-0.925106</td>\n",
              "      <td>-0.127778</td>\n",
              "    </tr>\n",
              "  </tbody>\n",
              "</table>\n",
              "</div>\n",
              "      <button class=\"colab-df-convert\" onclick=\"convertToInteractive('df-eda07ee0-363f-44fc-8fbf-32a7ebd067de')\"\n",
              "              title=\"Convert this dataframe to an interactive table.\"\n",
              "              style=\"display:none;\">\n",
              "        \n",
              "  <svg xmlns=\"http://www.w3.org/2000/svg\" height=\"24px\"viewBox=\"0 0 24 24\"\n",
              "       width=\"24px\">\n",
              "    <path d=\"M0 0h24v24H0V0z\" fill=\"none\"/>\n",
              "    <path d=\"M18.56 5.44l.94 2.06.94-2.06 2.06-.94-2.06-.94-.94-2.06-.94 2.06-2.06.94zm-11 1L8.5 8.5l.94-2.06 2.06-.94-2.06-.94L8.5 2.5l-.94 2.06-2.06.94zm10 10l.94 2.06.94-2.06 2.06-.94-2.06-.94-.94-2.06-.94 2.06-2.06.94z\"/><path d=\"M17.41 7.96l-1.37-1.37c-.4-.4-.92-.59-1.43-.59-.52 0-1.04.2-1.43.59L10.3 9.45l-7.72 7.72c-.78.78-.78 2.05 0 2.83L4 21.41c.39.39.9.59 1.41.59.51 0 1.02-.2 1.41-.59l7.78-7.78 2.81-2.81c.8-.78.8-2.07 0-2.86zM5.41 20L4 18.59l7.72-7.72 1.47 1.35L5.41 20z\"/>\n",
              "  </svg>\n",
              "      </button>\n",
              "      \n",
              "  <style>\n",
              "    .colab-df-container {\n",
              "      display:flex;\n",
              "      flex-wrap:wrap;\n",
              "      gap: 12px;\n",
              "    }\n",
              "\n",
              "    .colab-df-convert {\n",
              "      background-color: #E8F0FE;\n",
              "      border: none;\n",
              "      border-radius: 50%;\n",
              "      cursor: pointer;\n",
              "      display: none;\n",
              "      fill: #1967D2;\n",
              "      height: 32px;\n",
              "      padding: 0 0 0 0;\n",
              "      width: 32px;\n",
              "    }\n",
              "\n",
              "    .colab-df-convert:hover {\n",
              "      background-color: #E2EBFA;\n",
              "      box-shadow: 0px 1px 2px rgba(60, 64, 67, 0.3), 0px 1px 3px 1px rgba(60, 64, 67, 0.15);\n",
              "      fill: #174EA6;\n",
              "    }\n",
              "\n",
              "    [theme=dark] .colab-df-convert {\n",
              "      background-color: #3B4455;\n",
              "      fill: #D2E3FC;\n",
              "    }\n",
              "\n",
              "    [theme=dark] .colab-df-convert:hover {\n",
              "      background-color: #434B5C;\n",
              "      box-shadow: 0px 1px 3px 1px rgba(0, 0, 0, 0.15);\n",
              "      filter: drop-shadow(0px 1px 2px rgba(0, 0, 0, 0.3));\n",
              "      fill: #FFFFFF;\n",
              "    }\n",
              "  </style>\n",
              "\n",
              "      <script>\n",
              "        const buttonEl =\n",
              "          document.querySelector('#df-eda07ee0-363f-44fc-8fbf-32a7ebd067de button.colab-df-convert');\n",
              "        buttonEl.style.display =\n",
              "          google.colab.kernel.accessAllowed ? 'block' : 'none';\n",
              "\n",
              "        async function convertToInteractive(key) {\n",
              "          const element = document.querySelector('#df-eda07ee0-363f-44fc-8fbf-32a7ebd067de');\n",
              "          const dataTable =\n",
              "            await google.colab.kernel.invokeFunction('convertToInteractive',\n",
              "                                                     [key], {});\n",
              "          if (!dataTable) return;\n",
              "\n",
              "          const docLinkHtml = 'Like what you see? Visit the ' +\n",
              "            '<a target=\"_blank\" href=https://colab.research.google.com/notebooks/data_table.ipynb>data table notebook</a>'\n",
              "            + ' to learn more about interactive tables.';\n",
              "          element.innerHTML = '';\n",
              "          dataTable['output_type'] = 'display_data';\n",
              "          await google.colab.output.renderOutput(dataTable, element);\n",
              "          const docLink = document.createElement('div');\n",
              "          docLink.innerHTML = docLinkHtml;\n",
              "          element.appendChild(docLink);\n",
              "        }\n",
              "      </script>\n",
              "    </div>\n",
              "  </div>\n",
              "  "
            ]
          },
          "metadata": {},
          "execution_count": 140
        }
      ]
    },
    {
      "cell_type": "markdown",
      "metadata": {
        "id": "qX0XejHbxaLu"
      },
      "source": [
        "## Model architecture"
      ]
    },
    {
      "cell_type": "markdown",
      "metadata": {
        "id": "9jK0Aq_HxaLu"
      },
      "source": [
        "First, we build the architecture :"
      ]
    },
    {
      "cell_type": "code",
      "execution_count": 141,
      "metadata": {
        "id": "wR80rvnaxaLv"
      },
      "outputs": [],
      "source": [
        "class PositionalEncoding(nn.Module):\n",
        "    def __init__(self, d_model, max_len=5000):\n",
        "        super(PositionalEncoding, self).__init__()       \n",
        "        pe = torch.zeros(max_len, d_model)\n",
        "        position = torch.arange(0, max_len, dtype=torch.float).unsqueeze(1)\n",
        "        # div_term = torch.exp(\n",
        "        #     torch.arange(0, d_model, 2).float() * (-math.log(10000.0) / d_model)\n",
        "        # )\n",
        "        div_term = 1 / (10000 ** ((2 * np.arange(d_model)) / d_model))\n",
        "        pe[:, 0::2] = torch.sin(position * div_term[0::2])\n",
        "        pe[:, 1::2] = torch.cos(position * div_term[1::2])\n",
        "\n",
        "        pe = pe.unsqueeze(0).transpose(0, 1) # [5000, 1, d_model],so need seq-len <= 5000\n",
        "        #pe.requires_grad = False\n",
        "        self.register_buffer('pe', pe)\n",
        "\n",
        "    def forward(self, x):\n",
        "        # print(self.pe[:x.size(0), :].repeat(1,x.shape[1],1).shape ,'---',x.shape)\n",
        "        # dimension 1 maybe inequal batchsize\n",
        "        return x + self.pe[:x.size(0), :].repeat(1,x.shape[1],1)"
      ]
    },
    {
      "cell_type": "code",
      "execution_count": 142,
      "metadata": {
        "id": "ayPFH9aLxaLv"
      },
      "outputs": [],
      "source": [
        "class TimeFormer(nn.Module):\n",
        "    def __init__(self,feature_size=250,num_encoder_layers=1,dropout=0.1, nbr_labels=4):\n",
        "        super(TimeFormer, self).__init__()\n",
        "        self.model_type = 'Transformer'\n",
        "        self.input_embedding  = nn.Linear(nbr_labels, feature_size)\n",
        "        self.src_mask = None\n",
        "\n",
        "        self.pos_encoder = PositionalEncoding(feature_size)\n",
        "        self.encoder_layer = nn.TransformerEncoderLayer(d_model=feature_size, nhead=10, dropout=dropout, batch_first=True)\n",
        "        self.transformer_encoder = nn.TransformerEncoder(self.encoder_layer, num_layers=num_encoder_layers, norm=None)\n",
        "        self.decoder = nn.Linear(feature_size * nbr_labels, nbr_labels)\n",
        "        self.init_weights()\n",
        "\n",
        "    def init_weights(self):\n",
        "        initrange = 0.1    \n",
        "        self.decoder.bias.data.zero_()\n",
        "        self.decoder.weight.data.uniform_(-initrange, initrange)\n",
        "\n",
        "    def forward(self,src):\n",
        "        # src with shape (input_window, batch_len, 1)\n",
        "        if self.src_mask is None or self.src_mask.size(0) != src.shape[1]:\n",
        "            device = src.device\n",
        "            mask = self._generate_square_subsequent_mask(src.shape[1]).to(device)\n",
        "            self.src_mask = mask\n",
        "\n",
        "        src = self.input_embedding(src) # linear transformation before positional embedding\n",
        "        src = self.pos_encoder(src) # positional embedding\n",
        "        output = self.transformer_encoder(src,self.src_mask) # transformer encoder\n",
        "        output = output.reshape(output.shape[0], -1) # flatten the output\n",
        "        output = self.decoder(output)  # linear transformation decoder\n",
        "        return output\n",
        "\n",
        "    def _generate_square_subsequent_mask(self, size):\n",
        "        mask = (torch.triu(torch.ones(size, size)) == 1).transpose(0, 1)\n",
        "        mask = mask.float().masked_fill(mask == 0, float('-inf')).masked_fill(mask == 1, float(0.0))\n",
        "        return mask\n"
      ]
    },
    {
      "cell_type": "markdown",
      "metadata": {
        "id": "N259zZN9xaLw"
      },
      "source": [
        "We create the a dataset class to encapsulate and format our data :"
      ]
    },
    {
      "cell_type": "code",
      "execution_count": 143,
      "metadata": {
        "id": "J0FKv5IsxaLw"
      },
      "outputs": [],
      "source": [
        "class TimeFormerDataset(Dataset):\n",
        "    \"\"\"\n",
        "    Dataset class used for TimeFormer model.\n",
        "    \"\"\"\n",
        "    def __init__(self, data_df, enc_seq_len=4, window_step=1, labels_as_features=False):\n",
        "        super().__init__()\n",
        "\n",
        "        self.enc_seq_len = enc_seq_len\n",
        "        self.window_step = window_step\n",
        "\n",
        "        self.labels = torch.from_numpy(data_df.loc[:, [\"p\", \"T\", \"rh\", \"wv\"]].to_numpy()).type(torch.float32)\n",
        "        self.features = None\n",
        "        if not labels_as_features:\n",
        "            self.features = torch.from_numpy(data_df.loc[:, [k for k in data_df.columns if k not in [\"p\", \"T\", \"rh\", \"wv\", \"date\"]]].to_numpy()).type(torch.float32)\n",
        "\n",
        "        # list of tuple (start, end) of the sequences according to window_step and enc_seq_len\n",
        "        self.seq_list = [(i, i + enc_seq_len) for i in range(0, len(data_df) - enc_seq_len, window_step)]\n",
        "    \n",
        "    def __len__(self):\n",
        "        return len(self.seq_list)\n",
        "    \n",
        "    def __getitem__(self, idx):\n",
        "        \"\"\" \n",
        "        Returns the input and target sequences for a given index.\n",
        "        \"\"\"\n",
        "\n",
        "        # get the start and end of the sequence\n",
        "        start, end = self.seq_list[idx]\n",
        "\n",
        "        # get the input sequence\n",
        "        src_seq = self.features[start:end] if self.features is not None else self.labels[start:end]\n",
        "        trgt_seq = self.labels[end]\n",
        "\n",
        "        return src_seq, trgt_seq.squeeze()"
      ]
    },
    {
      "cell_type": "markdown",
      "source": [
        "## Training"
      ],
      "metadata": {
        "id": "b6vH6ryD_ajC"
      }
    },
    {
      "cell_type": "code",
      "execution_count": 144,
      "metadata": {
        "id": "Gp4PS7LDxaLx"
      },
      "outputs": [],
      "source": [
        "# training function\n",
        "def train(model, criterion, optimizer, scheduler, epochs, train_loader, val_loader, device, save_path):\n",
        "    \n",
        "    train_losses = []\n",
        "    val_losses = []\n",
        "    lrs = []\n",
        "    pbar = tqdm(range(epochs), desc=\"Epochs\", leave=True, position=0)\n",
        "\n",
        "    start = time.time()\n",
        "    for i, epoch in enumerate(pbar):\n",
        "\n",
        "        total_loss = 0.\n",
        "        lrs.append(optimizer.param_groups[0]['lr'])\n",
        "        model.train()\n",
        "        for batch in train_loader:  \n",
        "            \n",
        "            srcs = batch[0].to(device)\n",
        "            trgts = batch[1].to(device)\n",
        "\n",
        "            optimizer.zero_grad()\n",
        "            output = model(srcs)\n",
        "            loss = criterion(output, trgts)\n",
        "\n",
        "            loss.backward()\n",
        "            torch.nn.utils.clip_grad_norm_(model.parameters(), 0.7)\n",
        "            optimizer.step()\n",
        "\n",
        "            total_loss += loss.item()\n",
        "        \n",
        "        train_losses.append(total_loss / len(train_loader))\n",
        "\n",
        "        # validation\n",
        "        total_loss = 0.\n",
        "        model.eval()\n",
        "        with torch.no_grad():\n",
        "            for batch in val_loader:\n",
        "                srcs = batch[0].to(device)\n",
        "                trgts = batch[1].to(device)\n",
        "\n",
        "                output = model(srcs)\n",
        "                loss = criterion(output, trgts)\n",
        "\n",
        "                total_loss += loss.item()\n",
        "            \n",
        "            val_losses.append(total_loss / len(val_loader))\n",
        "        \n",
        "        # update scheduler\n",
        "        #scheduler.step(val_losses[-1])\n",
        "        if scheduler is not None:\n",
        "          scheduler.step()\n",
        "\n",
        "        pbar.set_postfix(train_loss=train_losses[-1], val_loss=val_losses[-1], lr=lrs[-1])\n",
        "        \n",
        "        # checkpoint\n",
        "        if i % 10 == 0:\n",
        "            torch.save(model.state_dict(), save_path)\n",
        "    \n",
        "    end = time.time()\n",
        "    print(f\"Training time: {end - start:.2f} seconds\")\n",
        "    \n",
        "    return model, train_losses, val_losses, lrs"
      ]
    },
    {
      "cell_type": "code",
      "execution_count": 145,
      "metadata": {
        "id": "fL6lpyCzxaLx"
      },
      "outputs": [],
      "source": [
        "# evaluation function\n",
        "def evaluate(model, criterion, test_loader, device):\n",
        "    model.eval()\n",
        "    with torch.no_grad():\n",
        "        total_loss = 0.\n",
        "        for batch in test_loader:\n",
        "            srcs = batch[0].to(device)\n",
        "            trgts = batch[1].to(device)\n",
        "\n",
        "            output = model(srcs)\n",
        "            loss = criterion(output, trgts)\n",
        "\n",
        "            total_loss += loss.item()\n",
        "        \n",
        "        return total_loss / len(test_loader)"
      ]
    },
    {
      "cell_type": "code",
      "execution_count": 146,
      "metadata": {
        "colab": {
          "base_uri": "https://localhost:8080/"
        },
        "id": "-XSYp5WSxaLx",
        "outputId": "6138715a-f56e-4b50-a6c3-319aece9ec88"
      },
      "outputs": [
        {
          "output_type": "stream",
          "name": "stdout",
          "text": [
            "Using device : cuda\n"
          ]
        }
      ],
      "source": [
        "# hyperparameters\n",
        "epochs = 25\n",
        "lr = 1e-3\n",
        "enc_seq_len = 4 # number of past observations to use\n",
        "window_step = 1 # step between two consecutive windows\n",
        "nbr_labels = 4 # number of labels to predict\n",
        "batch_size = 32\n",
        "dropout = 0.1\n",
        "num_encoder_layers = 1 # number of transformer encoder layers\n",
        "feature_size = 250 # size of the feature vector in the input embedding layer\n",
        "\n",
        "device = torch.device(\"cuda\" if torch.cuda.is_available() else \"cpu\")\n",
        "print(f\"Using device : {device}\")"
      ]
    },
    {
      "cell_type": "code",
      "execution_count": 147,
      "metadata": {
        "id": "rWPSQnLTxaLy"
      },
      "outputs": [],
      "source": [
        "# datasets and dataloaders\n",
        "time_ds = TimeFormerDataset(data_df, enc_seq_len=enc_seq_len, window_step=window_step, labels_as_features=True)\n",
        "\n",
        "train_size = int(0.9 * len(time_ds)) # 90% for training\n",
        "val_size = len(time_ds) - train_size\n",
        "\n",
        "train_ds, val_ds = random_split(time_ds, [train_size, val_size])\n",
        "\n",
        "train_loader = DataLoader(train_ds, batch_size=batch_size, shuffle=True, num_workers=2, pin_memory=True)\n",
        "val_loader = DataLoader(val_ds, batch_size=batch_size, shuffle=False, num_workers=2, pin_memory=True)"
      ]
    },
    {
      "cell_type": "code",
      "execution_count": 148,
      "metadata": {
        "colab": {
          "base_uri": "https://localhost:8080/"
        },
        "id": "cdYPmA87xaLy",
        "outputId": "0ded0693-046b-417d-e6d7-92092c0370da"
      },
      "outputs": [
        {
          "output_type": "stream",
          "name": "stderr",
          "text": [
            "\rEpochs:   0%|          | 0/25 [00:00<?, ?it/s]/usr/local/lib/python3.9/dist-packages/torch/nn/modules/transformer.py:544: UserWarning: Converting mask without torch.bool dtype to bool; this will negatively affect performance. Prefer to use a boolean mask directly. (Triggered internally at ../aten/src/ATen/native/transformers/attention.cpp:150.)\n",
            "  return torch._transformer_encoder_layer_fwd(\n",
            "Epochs: 100%|██████████| 25/25 [05:10<00:00, 12.44s/it, lr=0.001, train_loss=0.00653, val_loss=0.00673]"
          ]
        },
        {
          "output_type": "stream",
          "name": "stdout",
          "text": [
            "Training time: 310.98 seconds\n"
          ]
        },
        {
          "output_type": "stream",
          "name": "stderr",
          "text": [
            "\n"
          ]
        }
      ],
      "source": [
        "# training \n",
        "\n",
        "model = TimeFormer(nbr_labels=nbr_labels, feature_size=feature_size, num_encoder_layers=num_encoder_layers, dropout=dropout).to(device)\n",
        "\n",
        "criterion = nn.MSELoss()\n",
        "optimizer = torch.optim.Adam(model.parameters(), lr=lr)\n",
        "#scheduler = lr_scheduler.ReduceLROnPlateau(optimizer, mode='min', factor=0.1, patience=5, verbose=False)\n",
        "#scheduler = lr_scheduler.StepLR(optimizer, step_size=10, gamma=0.5)\n",
        "\n",
        "model, train_losses, val_losses, lrs = train(model, criterion, optimizer, None, epochs, train_loader, val_loader, device, \"timeformer.pth\")"
      ]
    },
    {
      "cell_type": "code",
      "source": [
        "print(\"Saving final model\")\n",
        "torch.save(model.state_dict(), \"timeformer_final.pth\")"
      ],
      "metadata": {
        "colab": {
          "base_uri": "https://localhost:8080/"
        },
        "id": "XoCbvXmd7Bqz",
        "outputId": "1bd6c665-3d63-4e06-96db-0679039593c7"
      },
      "execution_count": 149,
      "outputs": [
        {
          "output_type": "stream",
          "name": "stdout",
          "text": [
            "Saving final model\n"
          ]
        }
      ]
    },
    {
      "cell_type": "code",
      "execution_count": 150,
      "metadata": {
        "colab": {
          "base_uri": "https://localhost:8080/"
        },
        "id": "T0M9w1dVxaLy",
        "outputId": "e0e40c87-f33a-49b5-b9ea-dc51620cb12e"
      },
      "outputs": [
        {
          "output_type": "stream",
          "name": "stdout",
          "text": [
            "Final losses | Train loss: 0.0065 | Val loss: 0.0067\n"
          ]
        }
      ],
      "source": [
        "print(f\"Final losses | Train loss: {train_losses[-1]:.4f} | Val loss: {val_losses[-1]:.4f}\")"
      ]
    },
    {
      "cell_type": "code",
      "execution_count": 151,
      "metadata": {
        "colab": {
          "base_uri": "https://localhost:8080/",
          "height": 471
        },
        "id": "3dX-DtyBxaLy",
        "outputId": "617f1e46-2fd4-427c-95d8-1bdcd730282f"
      },
      "outputs": [
        {
          "output_type": "execute_result",
          "data": {
            "text/plain": [
              "<matplotlib.legend.Legend at 0x7ff95baafc40>"
            ]
          },
          "metadata": {},
          "execution_count": 151
        },
        {
          "output_type": "display_data",
          "data": {
            "text/plain": [
              "<Figure size 640x480 with 1 Axes>"
            ],
            "image/png": "[encoded data removed]"
          },
          "metadata": {}
        }
      ],
      "source": [
        "# plot losses\n",
        "start_epoch = 3\n",
        "plt.plot(list(range(start_epoch, len(train_losses))), train_losses[start_epoch:], label=\"Train loss\")\n",
        "plt.plot(list(range(start_epoch, len(train_losses))), val_losses[start_epoch:], label=\"Val loss\")\n",
        "plt.xlabel(\"epochs\")\n",
        "plt.ylabel(\"MSE loss\")\n",
        "plt.legend()"
      ]
    },
    {
      "cell_type": "code",
      "source": [
        "# plot lr\n",
        "plt.plot(lrs, label=\"learning rate\")\n",
        "plt.legend()"
      ],
      "metadata": {
        "colab": {
          "base_uri": "https://localhost:8080/",
          "height": 448
        },
        "id": "ajDBEO717lsy",
        "outputId": "7868faac-d6be-43f1-a4c0-3e78c193fea5"
      },
      "execution_count": 152,
      "outputs": [
        {
          "output_type": "execute_result",
          "data": {
            "text/plain": [
              "<matplotlib.legend.Legend at 0x7ff96d9c8040>"
            ]
          },
          "metadata": {},
          "execution_count": 152
        },
        {
          "output_type": "display_data",
          "data": {
            "text/plain": [
              "<Figure size 640x480 with 1 Axes>"
            ],
            "image/png": "[encoded data removed]"
          },
          "metadata": {}
        }
      ]
    },
    {
      "cell_type": "markdown",
      "source": [
        "## Evaluation"
      ],
      "metadata": {
        "id": "KHiCZ-d6_frq"
      }
    },
    {
      "cell_type": "code",
      "source": [
        "test_df = pd.read_csv(os.path.join(WEATHER_DATA_PATH, \"weather_test.csv\"), parse_dates = ['Date Time'], date_parser=custom_date_parser)\n",
        "test_df.head()"
      ],
      "metadata": {
        "colab": {
          "base_uri": "https://localhost:8080/",
          "height": 410
        },
        "id": "FroowtwgBlgm",
        "outputId": "6ccf1556-8530-41fd-adf6-1d8c70246f3f"
      },
      "execution_count": 153,
      "outputs": [
        {
          "output_type": "stream",
          "name": "stderr",
          "text": [
            "<ipython-input-132-806ade3554b6>:2: FutureWarning: The pandas.datetime class is deprecated and will be removed from pandas in a future version. Import from datetime module instead.\n",
            "  return pd.datetime.strptime(date_string, '%d.%m.%Y %H:%M:%S')\n"
          ]
        },
        {
          "output_type": "execute_result",
          "data": {
            "text/plain": [
              "            Date Time  p (mbar)  T (degC)  Tpot (K)  Tdew (degC)  rh (%)  \\\n",
              "0 2015-05-24 19:00:00    990.00     17.93    291.93         9.23   56.73   \n",
              "1 2015-05-24 20:00:00    989.86     16.92    290.93         9.52   61.65   \n",
              "2 2015-05-24 21:00:00    990.11     15.82    289.80         9.71   66.97   \n",
              "3 2015-05-24 22:00:00    990.01     15.02    289.01         9.50   69.53   \n",
              "4 2015-05-24 23:00:00    989.89     14.14    288.14         9.42   73.20   \n",
              "\n",
              "   VPmax (mbar)  VPact (mbar)  VPdef (mbar)  sh (g/kg)  H2OC (mmol/mol)  \\\n",
              "0         20.58         11.68          8.91       7.37            11.79   \n",
              "1         19.31         11.90          7.40       7.51            12.03   \n",
              "2         18.00         12.06          5.95       7.61            12.18   \n",
              "3         17.10         11.89          5.21       7.50            12.01   \n",
              "4         16.15         11.83          4.33       7.46            11.95   \n",
              "\n",
              "   rho (g/m**3)  wv (m/s)  max. wv (m/s)  wd (deg)  \n",
              "0       1179.50      1.58           2.16     34.37  \n",
              "1       1183.33      0.23           0.60     20.89  \n",
              "2       1188.07      0.26           0.52    252.00  \n",
              "3       1191.32      1.22           1.88    218.50  \n",
              "4       1194.85      1.43           1.96    218.00  "
            ],
            "text/html": [
              "\n",
              "  <div id=\"df-8ddd6256-7d46-486b-88c5-f119afc28aa2\">\n",
              "    <div class=\"colab-df-container\">\n",
              "      <div>\n",
              "<style scoped>\n",
              "    .dataframe tbody tr th:only-of-type {\n",
              "        vertical-align: middle;\n",
              "    }\n",
              "\n",
              "    .dataframe tbody tr th {\n",
              "        vertical-align: top;\n",
              "    }\n",
              "\n",
              "    .dataframe thead th {\n",
              "        text-align: right;\n",
              "    }\n",
              "</style>\n",
              "<table border=\"1\" class=\"dataframe\">\n",
              "  <thead>\n",
              "    <tr style=\"text-align: right;\">\n",
              "      <th></th>\n",
              "      <th>Date Time</th>\n",
              "      <th>p (mbar)</th>\n",
              "      <th>T (degC)</th>\n",
              "      <th>Tpot (K)</th>\n",
              "      <th>Tdew (degC)</th>\n",
              "      <th>rh (%)</th>\n",
              "      <th>VPmax (mbar)</th>\n",
              "      <th>VPact (mbar)</th>\n",
              "      <th>VPdef (mbar)</th>\n",
              "      <th>sh (g/kg)</th>\n",
              "      <th>H2OC (mmol/mol)</th>\n",
              "      <th>rho (g/m**3)</th>\n",
              "      <th>wv (m/s)</th>\n",
              "      <th>max. wv (m/s)</th>\n",
              "      <th>wd (deg)</th>\n",
              "    </tr>\n",
              "  </thead>\n",
              "  <tbody>\n",
              "    <tr>\n",
              "      <th>0</th>\n",
              "      <td>2015-05-24 19:00:00</td>\n",
              "      <td>990.00</td>\n",
              "      <td>17.93</td>\n",
              "      <td>291.93</td>\n",
              "      <td>9.23</td>\n",
              "      <td>56.73</td>\n",
              "      <td>20.58</td>\n",
              "      <td>11.68</td>\n",
              "      <td>8.91</td>\n",
              "      <td>7.37</td>\n",
              "      <td>11.79</td>\n",
              "      <td>1179.50</td>\n",
              "      <td>1.58</td>\n",
              "      <td>2.16</td>\n",
              "      <td>34.37</td>\n",
              "    </tr>\n",
              "    <tr>\n",
              "      <th>1</th>\n",
              "      <td>2015-05-24 20:00:00</td>\n",
              "      <td>989.86</td>\n",
              "      <td>16.92</td>\n",
              "      <td>290.93</td>\n",
              "      <td>9.52</td>\n",
              "      <td>61.65</td>\n",
              "      <td>19.31</td>\n",
              "      <td>11.90</td>\n",
              "      <td>7.40</td>\n",
              "      <td>7.51</td>\n",
              "      <td>12.03</td>\n",
              "      <td>1183.33</td>\n",
              "      <td>0.23</td>\n",
              "      <td>0.60</td>\n",
              "      <td>20.89</td>\n",
              "    </tr>\n",
              "    <tr>\n",
              "      <th>2</th>\n",
              "      <td>2015-05-24 21:00:00</td>\n",
              "      <td>990.11</td>\n",
              "      <td>15.82</td>\n",
              "      <td>289.80</td>\n",
              "      <td>9.71</td>\n",
              "      <td>66.97</td>\n",
              "      <td>18.00</td>\n",
              "      <td>12.06</td>\n",
              "      <td>5.95</td>\n",
              "      <td>7.61</td>\n",
              "      <td>12.18</td>\n",
              "      <td>1188.07</td>\n",
              "      <td>0.26</td>\n",
              "      <td>0.52</td>\n",
              "      <td>252.00</td>\n",
              "    </tr>\n",
              "    <tr>\n",
              "      <th>3</th>\n",
              "      <td>2015-05-24 22:00:00</td>\n",
              "      <td>990.01</td>\n",
              "      <td>15.02</td>\n",
              "      <td>289.01</td>\n",
              "      <td>9.50</td>\n",
              "      <td>69.53</td>\n",
              "      <td>17.10</td>\n",
              "      <td>11.89</td>\n",
              "      <td>5.21</td>\n",
              "      <td>7.50</td>\n",
              "      <td>12.01</td>\n",
              "      <td>1191.32</td>\n",
              "      <td>1.22</td>\n",
              "      <td>1.88</td>\n",
              "      <td>218.50</td>\n",
              "    </tr>\n",
              "    <tr>\n",
              "      <th>4</th>\n",
              "      <td>2015-05-24 23:00:00</td>\n",
              "      <td>989.89</td>\n",
              "      <td>14.14</td>\n",
              "      <td>288.14</td>\n",
              "      <td>9.42</td>\n",
              "      <td>73.20</td>\n",
              "      <td>16.15</td>\n",
              "      <td>11.83</td>\n",
              "      <td>4.33</td>\n",
              "      <td>7.46</td>\n",
              "      <td>11.95</td>\n",
              "      <td>1194.85</td>\n",
              "      <td>1.43</td>\n",
              "      <td>1.96</td>\n",
              "      <td>218.00</td>\n",
              "    </tr>\n",
              "  </tbody>\n",
              "</table>\n",
              "</div>\n",
              "      <button class=\"colab-df-convert\" onclick=\"convertToInteractive('df-8ddd6256-7d46-486b-88c5-f119afc28aa2')\"\n",
              "              title=\"Convert this dataframe to an interactive table.\"\n",
              "              style=\"display:none;\">\n",
              "        \n",
              "  <svg xmlns=\"http://www.w3.org/2000/svg\" height=\"24px\"viewBox=\"0 0 24 24\"\n",
              "       width=\"24px\">\n",
              "    <path d=\"M0 0h24v24H0V0z\" fill=\"none\"/>\n",
              "    <path d=\"M18.56 5.44l.94 2.06.94-2.06 2.06-.94-2.06-.94-.94-2.06-.94 2.06-2.06.94zm-11 1L8.5 8.5l.94-2.06 2.06-.94-2.06-.94L8.5 2.5l-.94 2.06-2.06.94zm10 10l.94 2.06.94-2.06 2.06-.94-2.06-.94-.94-2.06-.94 2.06-2.06.94z\"/><path d=\"M17.41 7.96l-1.37-1.37c-.4-.4-.92-.59-1.43-.59-.52 0-1.04.2-1.43.59L10.3 9.45l-7.72 7.72c-.78.78-.78 2.05 0 2.83L4 21.41c.39.39.9.59 1.41.59.51 0 1.02-.2 1.41-.59l7.78-7.78 2.81-2.81c.8-.78.8-2.07 0-2.86zM5.41 20L4 18.59l7.72-7.72 1.47 1.35L5.41 20z\"/>\n",
              "  </svg>\n",
              "      </button>\n",
              "      \n",
              "  <style>\n",
              "    .colab-df-container {\n",
              "      display:flex;\n",
              "      flex-wrap:wrap;\n",
              "      gap: 12px;\n",
              "    }\n",
              "\n",
              "    .colab-df-convert {\n",
              "      background-color: #E8F0FE;\n",
              "      border: none;\n",
              "      border-radius: 50%;\n",
              "      cursor: pointer;\n",
              "      display: none;\n",
              "      fill: #1967D2;\n",
              "      height: 32px;\n",
              "      padding: 0 0 0 0;\n",
              "      width: 32px;\n",
              "    }\n",
              "\n",
              "    .colab-df-convert:hover {\n",
              "      background-color: #E2EBFA;\n",
              "      box-shadow: 0px 1px 2px rgba(60, 64, 67, 0.3), 0px 1px 3px 1px rgba(60, 64, 67, 0.15);\n",
              "      fill: #174EA6;\n",
              "    }\n",
              "\n",
              "    [theme=dark] .colab-df-convert {\n",
              "      background-color: #3B4455;\n",
              "      fill: #D2E3FC;\n",
              "    }\n",
              "\n",
              "    [theme=dark] .colab-df-convert:hover {\n",
              "      background-color: #434B5C;\n",
              "      box-shadow: 0px 1px 3px 1px rgba(0, 0, 0, 0.15);\n",
              "      filter: drop-shadow(0px 1px 2px rgba(0, 0, 0, 0.3));\n",
              "      fill: #FFFFFF;\n",
              "    }\n",
              "  </style>\n",
              "\n",
              "      <script>\n",
              "        const buttonEl =\n",
              "          document.querySelector('#df-8ddd6256-7d46-486b-88c5-f119afc28aa2 button.colab-df-convert');\n",
              "        buttonEl.style.display =\n",
              "          google.colab.kernel.accessAllowed ? 'block' : 'none';\n",
              "\n",
              "        async function convertToInteractive(key) {\n",
              "          const element = document.querySelector('#df-8ddd6256-7d46-486b-88c5-f119afc28aa2');\n",
              "          const dataTable =\n",
              "            await google.colab.kernel.invokeFunction('convertToInteractive',\n",
              "                                                     [key], {});\n",
              "          if (!dataTable) return;\n",
              "\n",
              "          const docLinkHtml = 'Like what you see? Visit the ' +\n",
              "            '<a target=\"_blank\" href=https://colab.research.google.com/notebooks/data_table.ipynb>data table notebook</a>'\n",
              "            + ' to learn more about interactive tables.';\n",
              "          element.innerHTML = '';\n",
              "          dataTable['output_type'] = 'display_data';\n",
              "          await google.colab.output.renderOutput(dataTable, element);\n",
              "          const docLink = document.createElement('div');\n",
              "          docLink.innerHTML = docLinkHtml;\n",
              "          element.appendChild(docLink);\n",
              "        }\n",
              "      </script>\n",
              "    </div>\n",
              "  </div>\n",
              "  "
            ]
          },
          "metadata": {},
          "execution_count": 153
        }
      ]
    },
    {
      "cell_type": "code",
      "source": [
        "test_df.sort_values(by='Date Time', ascending=True, inplace=True)"
      ],
      "metadata": {
        "id": "iVRy172lBzBu"
      },
      "execution_count": 154,
      "outputs": []
    },
    {
      "cell_type": "code",
      "source": [
        "test_df = test_df.rename(columns={'p (mbar)': 'p', 'T (degC)': 'T', 'rh (%)': 'rh', 'wv (m/s)': 'wv', 'Date Time': 'date'})"
      ],
      "metadata": {
        "id": "N7yhFl58B2cb"
      },
      "execution_count": 155,
      "outputs": []
    },
    {
      "cell_type": "code",
      "source": [
        "test_df['date'] = test_df['date'].apply(lambda x: x.replace(minute=0))"
      ],
      "metadata": {
        "id": "kc2LGj8qB9ZB"
      },
      "execution_count": 156,
      "outputs": []
    },
    {
      "cell_type": "code",
      "source": [
        "test_df.drop('date', inplace=True, axis=1)"
      ],
      "metadata": {
        "id": "cxMzSo9GKjcf"
      },
      "execution_count": 157,
      "outputs": []
    },
    {
      "cell_type": "code",
      "source": [
        "test_df.info()"
      ],
      "metadata": {
        "colab": {
          "base_uri": "https://localhost:8080/"
        },
        "id": "bGeBiU6VHL_O",
        "outputId": "0d3fb677-0b89-4d48-bbad-873f8750e59d"
      },
      "execution_count": 158,
      "outputs": [
        {
          "output_type": "stream",
          "name": "stdout",
          "text": [
            "<class 'pandas.core.frame.DataFrame'>\n",
            "Int64Index: 14019 entries, 0 to 14018\n",
            "Data columns (total 14 columns):\n",
            " #   Column           Non-Null Count  Dtype  \n",
            "---  ------           --------------  -----  \n",
            " 0   p                14019 non-null  float64\n",
            " 1   T                14019 non-null  float64\n",
            " 2   Tpot (K)         14019 non-null  float64\n",
            " 3   Tdew (degC)      14019 non-null  float64\n",
            " 4   rh               14019 non-null  float64\n",
            " 5   VPmax (mbar)     14019 non-null  float64\n",
            " 6   VPact (mbar)     14019 non-null  float64\n",
            " 7   VPdef (mbar)     14019 non-null  float64\n",
            " 8   sh (g/kg)        14019 non-null  float64\n",
            " 9   H2OC (mmol/mol)  14019 non-null  float64\n",
            " 10  rho (g/m**3)     14019 non-null  float64\n",
            " 11  wv               14019 non-null  float64\n",
            " 12  max. wv (m/s)    14019 non-null  float64\n",
            " 13  wd (deg)         14019 non-null  float64\n",
            "dtypes: float64(14)\n",
            "memory usage: 1.6 MB\n"
          ]
        }
      ]
    },
    {
      "cell_type": "code",
      "source": [
        "test_df[test_df.columns] = scaler.transform(test_df)"
      ],
      "metadata": {
        "id": "T0kfEUaoKcm-"
      },
      "execution_count": 159,
      "outputs": []
    },
    {
      "cell_type": "code",
      "source": [
        "test_ds = TimeFormerDataset(test_df, enc_seq_len=enc_seq_len, window_step=window_step, labels_as_features=True)\n",
        "test_loader = DataLoader(test_ds, batch_size=batch_size, shuffle=False, num_workers=2, pin_memory=True)"
      ],
      "metadata": {
        "id": "Yy-YjGWhEUUE"
      },
      "execution_count": 160,
      "outputs": []
    },
    {
      "cell_type": "code",
      "execution_count": null,
      "metadata": {
        "id": "2LafQLaxxaLy"
      },
      "outputs": [],
      "source": [
        "test_loss = evaluate(model, criterion, test_loader, device)\n",
        "print(f\"Test loss: {test_loss:.4f}\")"
      ]
    }
  ],
  "metadata": {
    "kernelspec": {
      "display_name": "venv",
      "language": "python",
      "name": "python3"
    },
    "language_info": {
      "codemirror_mode": {
        "name": "ipython",
        "version": 3
      },
      "file_extension": ".py",
      "mimetype": "text/x-python",
      "name": "python",
      "nbconvert_exporter": "python",
      "pygments_lexer": "ipython3",
      "version": "3.10.6"
    },
    "orig_nbformat": 4,
    "colab": {
      "provenance": [],
      "gpuType": "T4"
    },
    "accelerator": "GPU",
    "gpuClass": "standard"
  },
  "nbformat": 4,
  "nbformat_minor": 0
}